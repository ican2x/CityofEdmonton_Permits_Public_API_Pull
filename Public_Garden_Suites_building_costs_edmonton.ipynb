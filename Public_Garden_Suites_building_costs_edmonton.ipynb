{
 "cells": [
  {
   "cell_type": "markdown",
   "metadata": {},
   "source": [
    "#Questions: What should it cost to build a Garden Suite in Edmonton?"
   ]
  },
  {
   "cell_type": "markdown",
   "metadata": {},
   "source": [
    "Data set location\n",
    "https://data.edmonton.ca/Urban-Planning-Economy/General-Building-Permits/24uj-dj8v\n",
    "\n",
    "Total set= 181,741 permits/rows by 23 columns\n",
    "Time range: Jan 1, 2009 to July 27, 2022"
   ]
  },
  {
   "cell_type": "code",
   "execution_count": 33,
   "metadata": {},
   "outputs": [
    {
     "name": "stderr",
     "output_type": "stream",
     "text": [
      "WARNING:root:Requests made without an app_token will be subject to strict throttling limits.\n"
     ]
    }
   ],
   "source": [
    "import pandas as pd\n",
    "from sodapy import Socrata\n",
    "\n",
    "# Unauthenticated client only works with public data sets. Note 'None'\n",
    "# in place of application token, and no username or password:\n",
    "client = Socrata(\"data.edmonton.ca\", None)\n",
    "\n"
   ]
  },
  {
   "cell_type": "code",
   "execution_count": 34,
   "metadata": {},
   "outputs": [],
   "source": [
    "results = client.get(\"24uj-dj8v\", zoning=\"RF1\", building_type=\"Garden Suite (110)\", limit=2000)"
   ]
  },
  {
   "cell_type": "code",
   "execution_count": 35,
   "metadata": {},
   "outputs": [
    {
     "data": {
      "text/html": [
       "<div>\n",
       "<style scoped>\n",
       "    .dataframe tbody tr th:only-of-type {\n",
       "        vertical-align: middle;\n",
       "    }\n",
       "\n",
       "    .dataframe tbody tr th {\n",
       "        vertical-align: top;\n",
       "    }\n",
       "\n",
       "    .dataframe thead th {\n",
       "        text-align: right;\n",
       "    }\n",
       "</style>\n",
       "<table border=\"1\" class=\"dataframe\">\n",
       "  <thead>\n",
       "    <tr style=\"text-align: right;\">\n",
       "      <th></th>\n",
       "      <th>row_id</th>\n",
       "      <th>issue_date</th>\n",
       "      <th>permit_date</th>\n",
       "      <th>year</th>\n",
       "      <th>month_number</th>\n",
       "      <th>job_category</th>\n",
       "      <th>job_description</th>\n",
       "      <th>building_type</th>\n",
       "      <th>work_type</th>\n",
       "      <th>construction_value</th>\n",
       "      <th>...</th>\n",
       "      <th>address</th>\n",
       "      <th>legal_description</th>\n",
       "      <th>zoning</th>\n",
       "      <th>neighbourhood_numberr</th>\n",
       "      <th>neighbourhood</th>\n",
       "      <th>count</th>\n",
       "      <th>latitude</th>\n",
       "      <th>longitude</th>\n",
       "      <th>location</th>\n",
       "      <th>geometry_point</th>\n",
       "    </tr>\n",
       "  </thead>\n",
       "  <tbody>\n",
       "    <tr>\n",
       "      <th>0</th>\n",
       "      <td>8-262280273</td>\n",
       "      <td>2019-09-06T00:00:00.000</td>\n",
       "      <td>2019-09-06T00:00:00.000</td>\n",
       "      <td>2019</td>\n",
       "      <td>9</td>\n",
       "      <td>Single, Semi-detached &amp; Rowhousing</td>\n",
       "      <td>To construct a Garden Suite.</td>\n",
       "      <td>Garden Suite (110)</td>\n",
       "      <td>(01) Building - New</td>\n",
       "      <td>99360</td>\n",
       "      <td>...</td>\n",
       "      <td>8718G - 117 STREET NW</td>\n",
       "      <td>Plan 715HW Blk 24 Lot 16</td>\n",
       "      <td>RF1</td>\n",
       "      <td>5580</td>\n",
       "      <td>WINDSOR PARK</td>\n",
       "      <td>1</td>\n",
       "      <td>53.523739585213185</td>\n",
       "      <td>-113.53298854137547</td>\n",
       "      <td>{'latitude': '53.523739585213185', 'longitude'...</td>\n",
       "      <td>{'type': 'Point', 'coordinates': [-113.5329885...</td>\n",
       "    </tr>\n",
       "    <tr>\n",
       "      <th>1</th>\n",
       "      <td>3-306664457</td>\n",
       "      <td>2019-09-12T00:00:00.000</td>\n",
       "      <td>2019-09-12T00:00:00.000</td>\n",
       "      <td>2019</td>\n",
       "      <td>9</td>\n",
       "      <td>Single, Semi-detached &amp; Rowhousing</td>\n",
       "      <td>To construct a Garden Suite with balcony.</td>\n",
       "      <td>Garden Suite (110)</td>\n",
       "      <td>(01) Building - New</td>\n",
       "      <td>61755</td>\n",
       "      <td>...</td>\n",
       "      <td>10961G - 158 STREET NW</td>\n",
       "      <td>Plan 642KS Blk 6 Lot 13</td>\n",
       "      <td>RF1</td>\n",
       "      <td>4290</td>\n",
       "      <td>MAYFIELD</td>\n",
       "      <td>1</td>\n",
       "      <td>53.55543570096415</td>\n",
       "      <td>-113.5924743295846</td>\n",
       "      <td>{'latitude': '53.55543570096415', 'longitude':...</td>\n",
       "      <td>{'type': 'Point', 'coordinates': [-113.5924743...</td>\n",
       "    </tr>\n",
       "    <tr>\n",
       "      <th>2</th>\n",
       "      <td>2-352638708</td>\n",
       "      <td>2020-06-05T00:00:00.000</td>\n",
       "      <td>2020-06-05T00:00:00.000</td>\n",
       "      <td>2020</td>\n",
       "      <td>6</td>\n",
       "      <td>Single, Semi-detached &amp; Rowhousing</td>\n",
       "      <td>To construct a two-Storey Garden Suite (main f...</td>\n",
       "      <td>Garden Suite (110)</td>\n",
       "      <td>(01) Building - New</td>\n",
       "      <td>39000</td>\n",
       "      <td>...</td>\n",
       "      <td>11422G - 77 AVENUE NW</td>\n",
       "      <td>Plan 2064S Blk 2 Lot 7</td>\n",
       "      <td>RF1</td>\n",
       "      <td>5290</td>\n",
       "      <td>MCKERNAN</td>\n",
       "      <td>1</td>\n",
       "      <td>53.513480085405554</td>\n",
       "      <td>-113.52685136993443</td>\n",
       "      <td>{'latitude': '53.513480085405554', 'longitude'...</td>\n",
       "      <td>{'type': 'Point', 'coordinates': [-113.5268513...</td>\n",
       "    </tr>\n",
       "    <tr>\n",
       "      <th>3</th>\n",
       "      <td>1-339378059</td>\n",
       "      <td>2020-01-29T00:00:00.000</td>\n",
       "      <td>2020-01-29T00:00:00.000</td>\n",
       "      <td>2020</td>\n",
       "      <td>1</td>\n",
       "      <td>Single, Semi-detached &amp; Rowhousing</td>\n",
       "      <td>To construct a Garden Suite with balcony ( 1 b...</td>\n",
       "      <td>Garden Suite (110)</td>\n",
       "      <td>(01) Building - New</td>\n",
       "      <td>68770</td>\n",
       "      <td>...</td>\n",
       "      <td>7202G - 112 STREET NW</td>\n",
       "      <td>Plan 1324HW Blk 10 Lot 32</td>\n",
       "      <td>RF1</td>\n",
       "      <td>5290</td>\n",
       "      <td>MCKERNAN</td>\n",
       "      <td>1</td>\n",
       "      <td>53.50874031339125</td>\n",
       "      <td>-113.52018590190977</td>\n",
       "      <td>{'latitude': '53.50874031339125', 'longitude':...</td>\n",
       "      <td>{'type': 'Point', 'coordinates': [-113.5201859...</td>\n",
       "    </tr>\n",
       "    <tr>\n",
       "      <th>4</th>\n",
       "      <td>2-309240991</td>\n",
       "      <td>2019-07-18T00:00:00.000</td>\n",
       "      <td>2019-07-18T00:00:00.000</td>\n",
       "      <td>2019</td>\n",
       "      <td>7</td>\n",
       "      <td>Single, Semi-detached &amp; Rowhousing</td>\n",
       "      <td>To construct a Garden Suite (change of Use fro...</td>\n",
       "      <td>Garden Suite (110)</td>\n",
       "      <td>(01) Building - New</td>\n",
       "      <td>5635</td>\n",
       "      <td>...</td>\n",
       "      <td>12829G - 108 AVENUE NW</td>\n",
       "      <td>Plan 3875P Blk 26 Lot 8</td>\n",
       "      <td>RF1</td>\n",
       "      <td>3440</td>\n",
       "      <td>WESTMOUNT</td>\n",
       "      <td>1</td>\n",
       "      <td>53.55236794731123</td>\n",
       "      <td>-113.54407096338426</td>\n",
       "      <td>{'latitude': '53.55236794731123', 'longitude':...</td>\n",
       "      <td>{'type': 'Point', 'coordinates': [-113.5440709...</td>\n",
       "    </tr>\n",
       "  </tbody>\n",
       "</table>\n",
       "<p>5 rows × 22 columns</p>\n",
       "</div>"
      ],
      "text/plain": [
       "        row_id               issue_date              permit_date  year  \\\n",
       "0  8-262280273  2019-09-06T00:00:00.000  2019-09-06T00:00:00.000  2019   \n",
       "1  3-306664457  2019-09-12T00:00:00.000  2019-09-12T00:00:00.000  2019   \n",
       "2  2-352638708  2020-06-05T00:00:00.000  2020-06-05T00:00:00.000  2020   \n",
       "3  1-339378059  2020-01-29T00:00:00.000  2020-01-29T00:00:00.000  2020   \n",
       "4  2-309240991  2019-07-18T00:00:00.000  2019-07-18T00:00:00.000  2019   \n",
       "\n",
       "  month_number                        job_category  \\\n",
       "0            9  Single, Semi-detached & Rowhousing   \n",
       "1            9  Single, Semi-detached & Rowhousing   \n",
       "2            6  Single, Semi-detached & Rowhousing   \n",
       "3            1  Single, Semi-detached & Rowhousing   \n",
       "4            7  Single, Semi-detached & Rowhousing   \n",
       "\n",
       "                                     job_description       building_type  \\\n",
       "0                       To construct a Garden Suite.  Garden Suite (110)   \n",
       "1          To construct a Garden Suite with balcony.  Garden Suite (110)   \n",
       "2  To construct a two-Storey Garden Suite (main f...  Garden Suite (110)   \n",
       "3  To construct a Garden Suite with balcony ( 1 b...  Garden Suite (110)   \n",
       "4  To construct a Garden Suite (change of Use fro...  Garden Suite (110)   \n",
       "\n",
       "             work_type construction_value  ...                 address  \\\n",
       "0  (01) Building - New              99360  ...   8718G - 117 STREET NW   \n",
       "1  (01) Building - New              61755  ...  10961G - 158 STREET NW   \n",
       "2  (01) Building - New              39000  ...   11422G - 77 AVENUE NW   \n",
       "3  (01) Building - New              68770  ...   7202G - 112 STREET NW   \n",
       "4  (01) Building - New               5635  ...  12829G - 108 AVENUE NW   \n",
       "\n",
       "           legal_description zoning neighbourhood_numberr neighbourhood count  \\\n",
       "0   Plan 715HW Blk 24 Lot 16    RF1                  5580  WINDSOR PARK     1   \n",
       "1    Plan 642KS Blk 6 Lot 13    RF1                  4290      MAYFIELD     1   \n",
       "2     Plan 2064S Blk 2 Lot 7    RF1                  5290      MCKERNAN     1   \n",
       "3  Plan 1324HW Blk 10 Lot 32    RF1                  5290      MCKERNAN     1   \n",
       "4    Plan 3875P Blk 26 Lot 8    RF1                  3440     WESTMOUNT     1   \n",
       "\n",
       "             latitude            longitude  \\\n",
       "0  53.523739585213185  -113.53298854137547   \n",
       "1   53.55543570096415   -113.5924743295846   \n",
       "2  53.513480085405554  -113.52685136993443   \n",
       "3   53.50874031339125  -113.52018590190977   \n",
       "4   53.55236794731123  -113.54407096338426   \n",
       "\n",
       "                                            location  \\\n",
       "0  {'latitude': '53.523739585213185', 'longitude'...   \n",
       "1  {'latitude': '53.55543570096415', 'longitude':...   \n",
       "2  {'latitude': '53.513480085405554', 'longitude'...   \n",
       "3  {'latitude': '53.50874031339125', 'longitude':...   \n",
       "4  {'latitude': '53.55236794731123', 'longitude':...   \n",
       "\n",
       "                                      geometry_point  \n",
       "0  {'type': 'Point', 'coordinates': [-113.5329885...  \n",
       "1  {'type': 'Point', 'coordinates': [-113.5924743...  \n",
       "2  {'type': 'Point', 'coordinates': [-113.5268513...  \n",
       "3  {'type': 'Point', 'coordinates': [-113.5201859...  \n",
       "4  {'type': 'Point', 'coordinates': [-113.5440709...  \n",
       "\n",
       "[5 rows x 22 columns]"
      ]
     },
     "execution_count": 35,
     "metadata": {},
     "output_type": "execute_result"
    }
   ],
   "source": [
    "# Convert to pandas DataFrame\n",
    "results_df = pd.DataFrame.from_records(results)\n",
    "results_df.head()"
   ]
  },
  {
   "cell_type": "code",
   "execution_count": 36,
   "metadata": {},
   "outputs": [],
   "source": [
    "results_df.drop(columns={'issue_date', 'permit_date','job_description', 'address', 'legal_description', 'zoning','count','location', 'geometry_point', 'building_type','neighbourhood','job_category', 'work_type', 'row_id'}, inplace=True)"
   ]
  },
  {
   "cell_type": "code",
   "execution_count": 37,
   "metadata": {},
   "outputs": [],
   "source": [
    "import numpy as np\n",
    "import matplotlib.pyplot as plt\n",
    "import seaborn as sns\n",
    "import scipy.stats as ss\n",
    "import datetime as dt\n",
    "import math\n",
    "from sklearn.metrics import mean_squared_error\n",
    "import random\n",
    "import ipywidgets as widgets\n",
    "plt.show(sns)\n",
    "plt.rcParams[\"figure.figsize\"] = (15,5)"
   ]
  },
  {
   "cell_type": "code",
   "execution_count": 38,
   "metadata": {},
   "outputs": [
    {
     "data": {
      "text/html": [
       "<div>\n",
       "<style scoped>\n",
       "    .dataframe tbody tr th:only-of-type {\n",
       "        vertical-align: middle;\n",
       "    }\n",
       "\n",
       "    .dataframe tbody tr th {\n",
       "        vertical-align: top;\n",
       "    }\n",
       "\n",
       "    .dataframe thead th {\n",
       "        text-align: right;\n",
       "    }\n",
       "</style>\n",
       "<table border=\"1\" class=\"dataframe\">\n",
       "  <thead>\n",
       "    <tr style=\"text-align: right;\">\n",
       "      <th></th>\n",
       "      <th>year</th>\n",
       "      <th>month_number</th>\n",
       "      <th>construction_value</th>\n",
       "      <th>floor_area</th>\n",
       "      <th>units_added</th>\n",
       "      <th>neighbourhood_numberr</th>\n",
       "      <th>latitude</th>\n",
       "      <th>longitude</th>\n",
       "    </tr>\n",
       "  </thead>\n",
       "  <tbody>\n",
       "    <tr>\n",
       "      <th>count</th>\n",
       "      <td>199</td>\n",
       "      <td>199</td>\n",
       "      <td>192</td>\n",
       "      <td>186</td>\n",
       "      <td>187</td>\n",
       "      <td>199</td>\n",
       "      <td>199</td>\n",
       "      <td>199</td>\n",
       "    </tr>\n",
       "    <tr>\n",
       "      <th>unique</th>\n",
       "      <td>6</td>\n",
       "      <td>12</td>\n",
       "      <td>160</td>\n",
       "      <td>144</td>\n",
       "      <td>3</td>\n",
       "      <td>66</td>\n",
       "      <td>191</td>\n",
       "      <td>191</td>\n",
       "    </tr>\n",
       "    <tr>\n",
       "      <th>top</th>\n",
       "      <td>2021</td>\n",
       "      <td>7</td>\n",
       "      <td>64560</td>\n",
       "      <td>538</td>\n",
       "      <td>1</td>\n",
       "      <td>5580</td>\n",
       "      <td>53.51449453886473</td>\n",
       "      <td>-113.56340265850258</td>\n",
       "    </tr>\n",
       "    <tr>\n",
       "      <th>freq</th>\n",
       "      <td>78</td>\n",
       "      <td>30</td>\n",
       "      <td>4</td>\n",
       "      <td>7</td>\n",
       "      <td>177</td>\n",
       "      <td>11</td>\n",
       "      <td>2</td>\n",
       "      <td>2</td>\n",
       "    </tr>\n",
       "  </tbody>\n",
       "</table>\n",
       "</div>"
      ],
      "text/plain": [
       "        year month_number construction_value floor_area units_added  \\\n",
       "count    199          199                192        186         187   \n",
       "unique     6           12                160        144           3   \n",
       "top     2021            7              64560        538           1   \n",
       "freq      78           30                  4          7         177   \n",
       "\n",
       "       neighbourhood_numberr           latitude            longitude  \n",
       "count                    199                199                  199  \n",
       "unique                    66                191                  191  \n",
       "top                     5580  53.51449453886473  -113.56340265850258  \n",
       "freq                      11                  2                    2  "
      ]
     },
     "execution_count": 38,
     "metadata": {},
     "output_type": "execute_result"
    }
   ],
   "source": [
    "results_df.describe()"
   ]
  },
  {
   "cell_type": "markdown",
   "metadata": {},
   "source": [
    "#Looking at the data from our API pull I will use regression, with target 'Constrution_value', to get a dollar value on what I should be paying for a Garden Suite in Edmonton, Alberta . I will make an important assumption that when permits are pulled, the 'construction_value' is a reasonably close estimate to the actual cost of the construction. A subject matter expert could really help me here!"
   ]
  },
  {
   "cell_type": "code",
   "execution_count": 39,
   "metadata": {},
   "outputs": [],
   "source": [
    "# numeric columns\n",
    "to_scale = ['construction_value', 'year', 'month_number','neighbourhood_numberr', 'latitude', 'longitude', 'floor_area', 'units_added']"
   ]
  },
  {
   "cell_type": "code",
   "execution_count": 40,
   "metadata": {},
   "outputs": [],
   "source": [
    "for col in to_scale:\n",
    "    results_df[col].replace(\"-\",\"\", regex=True, inplace=True)\n",
    "    results_df[col] = pd.to_numeric(results_df[col], errors=\"coerce\", downcast=\"float\")"
   ]
  },
  {
   "cell_type": "code",
   "execution_count": 41,
   "metadata": {},
   "outputs": [
    {
     "data": {
      "text/plain": [
       "'construction_value'"
      ]
     },
     "execution_count": 41,
     "metadata": {},
     "output_type": "execute_result"
    }
   ],
   "source": [
    "to_scale.pop(0)"
   ]
  },
  {
   "cell_type": "markdown",
   "metadata": {},
   "source": [
    "I am dropping all the null values....most of which are construction_values."
   ]
  },
  {
   "cell_type": "code",
   "execution_count": 42,
   "metadata": {},
   "outputs": [],
   "source": [
    "results_df.dropna(inplace=True)"
   ]
  },
  {
   "cell_type": "markdown",
   "metadata": {},
   "source": [
    "#Target time - first lets remove any construction values that are less than 25K, and then look at a histrogram to get a feel for data."
   ]
  },
  {
   "cell_type": "code",
   "execution_count": 43,
   "metadata": {},
   "outputs": [
    {
     "data": {
      "text/plain": [
       "<AxesSubplot:>"
      ]
     },
     "execution_count": 43,
     "metadata": {},
     "output_type": "execute_result"
    },
    {
     "data": {
      "image/png": "[encoded data removed]",
      "text/plain": [
       "<Figure size 1080x360 with 1 Axes>"
      ]
     },
     "metadata": {
      "needs_background": "light"
     },
     "output_type": "display_data"
    }
   ],
   "source": [
    "# set target\n",
    "target = 'construction_value'\n",
    "#remove zeros....\n",
    "results_df=results_df[results_df[target]>25000]\n",
    "#baseline estimation off the top for regression\n",
    "results_df[target].mean()\n",
    "results_df[target].hist()"
   ]
  },
  {
   "cell_type": "markdown",
   "metadata": {},
   "source": [
    "#there are outliers -let's take a closer look construction_Values over $20k"
   ]
  },
  {
   "cell_type": "code",
   "execution_count": 44,
   "metadata": {},
   "outputs": [
    {
     "data": {
      "text/html": [
       "<div>\n",
       "<style scoped>\n",
       "    .dataframe tbody tr th:only-of-type {\n",
       "        vertical-align: middle;\n",
       "    }\n",
       "\n",
       "    .dataframe tbody tr th {\n",
       "        vertical-align: top;\n",
       "    }\n",
       "\n",
       "    .dataframe thead th {\n",
       "        text-align: right;\n",
       "    }\n",
       "</style>\n",
       "<table border=\"1\" class=\"dataframe\">\n",
       "  <thead>\n",
       "    <tr style=\"text-align: right;\">\n",
       "      <th></th>\n",
       "      <th>year</th>\n",
       "      <th>month_number</th>\n",
       "      <th>construction_value</th>\n",
       "      <th>floor_area</th>\n",
       "      <th>units_added</th>\n",
       "      <th>neighbourhood_numberr</th>\n",
       "      <th>latitude</th>\n",
       "      <th>longitude</th>\n",
       "    </tr>\n",
       "  </thead>\n",
       "  <tbody>\n",
       "    <tr>\n",
       "      <th>count</th>\n",
       "      <td>1.0</td>\n",
       "      <td>1.0</td>\n",
       "      <td>1.0</td>\n",
       "      <td>1.0</td>\n",
       "      <td>1.0</td>\n",
       "      <td>1.0</td>\n",
       "      <td>1.000000</td>\n",
       "      <td>1.000000</td>\n",
       "    </tr>\n",
       "    <tr>\n",
       "      <th>mean</th>\n",
       "      <td>2018.0</td>\n",
       "      <td>9.0</td>\n",
       "      <td>240000.0</td>\n",
       "      <td>840.0</td>\n",
       "      <td>1.0</td>\n",
       "      <td>3450.0</td>\n",
       "      <td>53.567406</td>\n",
       "      <td>113.561844</td>\n",
       "    </tr>\n",
       "    <tr>\n",
       "      <th>std</th>\n",
       "      <td>NaN</td>\n",
       "      <td>NaN</td>\n",
       "      <td>NaN</td>\n",
       "      <td>NaN</td>\n",
       "      <td>NaN</td>\n",
       "      <td>NaN</td>\n",
       "      <td>NaN</td>\n",
       "      <td>NaN</td>\n",
       "    </tr>\n",
       "    <tr>\n",
       "      <th>min</th>\n",
       "      <td>2018.0</td>\n",
       "      <td>9.0</td>\n",
       "      <td>240000.0</td>\n",
       "      <td>840.0</td>\n",
       "      <td>1.0</td>\n",
       "      <td>3450.0</td>\n",
       "      <td>53.567406</td>\n",
       "      <td>113.561844</td>\n",
       "    </tr>\n",
       "    <tr>\n",
       "      <th>25%</th>\n",
       "      <td>2018.0</td>\n",
       "      <td>9.0</td>\n",
       "      <td>240000.0</td>\n",
       "      <td>840.0</td>\n",
       "      <td>1.0</td>\n",
       "      <td>3450.0</td>\n",
       "      <td>53.567406</td>\n",
       "      <td>113.561844</td>\n",
       "    </tr>\n",
       "    <tr>\n",
       "      <th>50%</th>\n",
       "      <td>2018.0</td>\n",
       "      <td>9.0</td>\n",
       "      <td>240000.0</td>\n",
       "      <td>840.0</td>\n",
       "      <td>1.0</td>\n",
       "      <td>3450.0</td>\n",
       "      <td>53.567406</td>\n",
       "      <td>113.561844</td>\n",
       "    </tr>\n",
       "    <tr>\n",
       "      <th>75%</th>\n",
       "      <td>2018.0</td>\n",
       "      <td>9.0</td>\n",
       "      <td>240000.0</td>\n",
       "      <td>840.0</td>\n",
       "      <td>1.0</td>\n",
       "      <td>3450.0</td>\n",
       "      <td>53.567406</td>\n",
       "      <td>113.561844</td>\n",
       "    </tr>\n",
       "    <tr>\n",
       "      <th>max</th>\n",
       "      <td>2018.0</td>\n",
       "      <td>9.0</td>\n",
       "      <td>240000.0</td>\n",
       "      <td>840.0</td>\n",
       "      <td>1.0</td>\n",
       "      <td>3450.0</td>\n",
       "      <td>53.567406</td>\n",
       "      <td>113.561844</td>\n",
       "    </tr>\n",
       "  </tbody>\n",
       "</table>\n",
       "</div>"
      ],
      "text/plain": [
       "         year  month_number  construction_value  floor_area  units_added  \\\n",
       "count     1.0           1.0                 1.0         1.0          1.0   \n",
       "mean   2018.0           9.0            240000.0       840.0          1.0   \n",
       "std       NaN           NaN                 NaN         NaN          NaN   \n",
       "min    2018.0           9.0            240000.0       840.0          1.0   \n",
       "25%    2018.0           9.0            240000.0       840.0          1.0   \n",
       "50%    2018.0           9.0            240000.0       840.0          1.0   \n",
       "75%    2018.0           9.0            240000.0       840.0          1.0   \n",
       "max    2018.0           9.0            240000.0       840.0          1.0   \n",
       "\n",
       "       neighbourhood_numberr   latitude   longitude  \n",
       "count                    1.0   1.000000    1.000000  \n",
       "mean                  3450.0  53.567406  113.561844  \n",
       "std                      NaN        NaN         NaN  \n",
       "min                   3450.0  53.567406  113.561844  \n",
       "25%                   3450.0  53.567406  113.561844  \n",
       "50%                   3450.0  53.567406  113.561844  \n",
       "75%                   3450.0  53.567406  113.561844  \n",
       "max                   3450.0  53.567406  113.561844  "
      ]
     },
     "execution_count": 44,
     "metadata": {},
     "output_type": "execute_result"
    }
   ],
   "source": [
    "outliers=results_df[results_df[target]>200000]\n",
    "outliers.describe()"
   ]
  },
  {
   "cell_type": "markdown",
   "metadata": {},
   "source": [
    "##there's a single Garden Suite Build over $200k in 2018. I remove this outlier from the dataset.I also remove the single build in 2011 as it skews the set. The next year one was built is 2018 actually."
   ]
  },
  {
   "cell_type": "code",
   "execution_count": 45,
   "metadata": {},
   "outputs": [],
   "source": [
    "results_df=results_df[results_df[target]<200000]\n",
    "results_df=results_df[results_df['year']>2017]\n"
   ]
  },
  {
   "cell_type": "markdown",
   "metadata": {},
   "source": [
    "#Normalize construction_value to 2022 dollars.\n",
    "###Before we look more at our regression target, take into account time value of money to adjust the construction_value to the todays dollars. I could import numpy financial libraries but I instead build the function below."
   ]
  },
  {
   "cell_type": "code",
   "execution_count": 46,
   "metadata": {},
   "outputs": [],
   "source": [
    "yr_map = {2018:4, 2019:3, 2020:2, 2021:1, 2022:0}\n",
    "#map year to to column\n",
    "results_df[\"yr_no\"] = results_df[\"year\"].map(yr_map).fillna(\"Other\")"
   ]
  },
  {
   "cell_type": "code",
   "execution_count": 47,
   "metadata": {},
   "outputs": [],
   "source": [
    "#r is average interest rate for 5 year fixed rate between 2017 and 2022. Cheap money!\n",
    "r=0.05\n",
    "results_df[target] = results_df[target] *(1.0 + r)**results_df['yr_no']\n",
    "results_df.drop(columns={\"yr_no\", \"year\"}, inplace=True)"
   ]
  },
  {
   "cell_type": "code",
   "execution_count": 48,
   "metadata": {},
   "outputs": [
    {
     "data": {
      "text/plain": [
       "'year'"
      ]
     },
     "execution_count": 48,
     "metadata": {},
     "output_type": "execute_result"
    }
   ],
   "source": [
    "to_scale.pop(0)"
   ]
  },
  {
   "cell_type": "code",
   "execution_count": 49,
   "metadata": {},
   "outputs": [
    {
     "data": {
      "text/plain": [
       "<AxesSubplot:>"
      ]
     },
     "execution_count": 49,
     "metadata": {},
     "output_type": "execute_result"
    },
    {
     "data": {
      "image/png": "[encoded data removed]",
      "text/plain": [
       "<Figure size 1080x360 with 1 Axes>"
      ]
     },
     "metadata": {
      "needs_background": "light"
     },
     "output_type": "display_data"
    }
   ],
   "source": [
    "results_df[target].hist()"
   ]
  },
  {
   "cell_type": "code",
   "execution_count": 50,
   "metadata": {},
   "outputs": [
    {
     "data": {
      "text/html": [
       "<div>\n",
       "<style scoped>\n",
       "    .dataframe tbody tr th:only-of-type {\n",
       "        vertical-align: middle;\n",
       "    }\n",
       "\n",
       "    .dataframe tbody tr th {\n",
       "        vertical-align: top;\n",
       "    }\n",
       "\n",
       "    .dataframe thead th {\n",
       "        text-align: right;\n",
       "    }\n",
       "</style>\n",
       "<table border=\"1\" class=\"dataframe\">\n",
       "  <thead>\n",
       "    <tr style=\"text-align: right;\">\n",
       "      <th></th>\n",
       "      <th>month_number</th>\n",
       "      <th>construction_value</th>\n",
       "      <th>floor_area</th>\n",
       "      <th>units_added</th>\n",
       "      <th>neighbourhood_numberr</th>\n",
       "      <th>latitude</th>\n",
       "      <th>longitude</th>\n",
       "    </tr>\n",
       "  </thead>\n",
       "  <tbody>\n",
       "    <tr>\n",
       "      <th>0</th>\n",
       "      <td>9.0</td>\n",
       "      <td>115021.620000</td>\n",
       "      <td>864.0</td>\n",
       "      <td>1.0</td>\n",
       "      <td>5580.0</td>\n",
       "      <td>53.523739</td>\n",
       "      <td>113.532990</td>\n",
       "    </tr>\n",
       "    <tr>\n",
       "      <th>1</th>\n",
       "      <td>9.0</td>\n",
       "      <td>71489.131875</td>\n",
       "      <td>537.0</td>\n",
       "      <td>1.0</td>\n",
       "      <td>4290.0</td>\n",
       "      <td>53.555435</td>\n",
       "      <td>113.592476</td>\n",
       "    </tr>\n",
       "    <tr>\n",
       "      <th>2</th>\n",
       "      <td>6.0</td>\n",
       "      <td>42997.500000</td>\n",
       "      <td>325.0</td>\n",
       "      <td>1.0</td>\n",
       "      <td>5290.0</td>\n",
       "      <td>53.513481</td>\n",
       "      <td>113.526848</td>\n",
       "    </tr>\n",
       "    <tr>\n",
       "      <th>3</th>\n",
       "      <td>1.0</td>\n",
       "      <td>75818.925000</td>\n",
       "      <td>598.0</td>\n",
       "      <td>1.0</td>\n",
       "      <td>5290.0</td>\n",
       "      <td>53.508739</td>\n",
       "      <td>113.520187</td>\n",
       "    </tr>\n",
       "    <tr>\n",
       "      <th>5</th>\n",
       "      <td>9.0</td>\n",
       "      <td>89461.260000</td>\n",
       "      <td>672.0</td>\n",
       "      <td>1.0</td>\n",
       "      <td>3200.0</td>\n",
       "      <td>53.545464</td>\n",
       "      <td>113.550064</td>\n",
       "    </tr>\n",
       "  </tbody>\n",
       "</table>\n",
       "</div>"
      ],
      "text/plain": [
       "   month_number  construction_value  floor_area  units_added  \\\n",
       "0           9.0       115021.620000       864.0          1.0   \n",
       "1           9.0        71489.131875       537.0          1.0   \n",
       "2           6.0        42997.500000       325.0          1.0   \n",
       "3           1.0        75818.925000       598.0          1.0   \n",
       "5           9.0        89461.260000       672.0          1.0   \n",
       "\n",
       "   neighbourhood_numberr   latitude   longitude  \n",
       "0                 5580.0  53.523739  113.532990  \n",
       "1                 4290.0  53.555435  113.592476  \n",
       "2                 5290.0  53.513481  113.526848  \n",
       "3                 5290.0  53.508739  113.520187  \n",
       "5                 3200.0  53.545464  113.550064  "
      ]
     },
     "execution_count": 50,
     "metadata": {},
     "output_type": "execute_result"
    }
   ],
   "source": [
    "results_df.head()"
   ]
  },
  {
   "cell_type": "markdown",
   "metadata": {},
   "source": [
    "#A simple statistical look at our mean and standard deviation, after these many cleaning steps can give a first glimpse into reasonable Garden Suite construction costs....\n",
    "\n"
   ]
  },
  {
   "cell_type": "code",
   "execution_count": 51,
   "metadata": {},
   "outputs": [
    {
     "data": {
      "text/html": [
       "<div>\n",
       "<style scoped>\n",
       "    .dataframe tbody tr th:only-of-type {\n",
       "        vertical-align: middle;\n",
       "    }\n",
       "\n",
       "    .dataframe tbody tr th {\n",
       "        vertical-align: top;\n",
       "    }\n",
       "\n",
       "    .dataframe thead th {\n",
       "        text-align: right;\n",
       "    }\n",
       "</style>\n",
       "<table border=\"1\" class=\"dataframe\">\n",
       "  <thead>\n",
       "    <tr style=\"text-align: right;\">\n",
       "      <th></th>\n",
       "      <th>construction_value</th>\n",
       "      <th>floor_area</th>\n",
       "    </tr>\n",
       "  </thead>\n",
       "  <tbody>\n",
       "    <tr>\n",
       "      <th>count</th>\n",
       "      <td>180.000000</td>\n",
       "      <td>180.000000</td>\n",
       "    </tr>\n",
       "    <tr>\n",
       "      <th>mean</th>\n",
       "      <td>96873.856857</td>\n",
       "      <td>754.133362</td>\n",
       "    </tr>\n",
       "    <tr>\n",
       "      <th>std</th>\n",
       "      <td>33833.678294</td>\n",
       "      <td>267.319061</td>\n",
       "    </tr>\n",
       "    <tr>\n",
       "      <th>min</th>\n",
       "      <td>36600.000000</td>\n",
       "      <td>305.000000</td>\n",
       "    </tr>\n",
       "    <tr>\n",
       "      <th>max</th>\n",
       "      <td>186111.371250</td>\n",
       "      <td>1462.000000</td>\n",
       "    </tr>\n",
       "    <tr>\n",
       "      <th>nunique</th>\n",
       "      <td>163.000000</td>\n",
       "      <td>139.000000</td>\n",
       "    </tr>\n",
       "  </tbody>\n",
       "</table>\n",
       "</div>"
      ],
      "text/plain": [
       "         construction_value   floor_area\n",
       "count            180.000000   180.000000\n",
       "mean           96873.856857   754.133362\n",
       "std            33833.678294   267.319061\n",
       "min            36600.000000   305.000000\n",
       "max           186111.371250  1462.000000\n",
       "nunique          163.000000   139.000000"
      ]
     },
     "execution_count": 51,
     "metadata": {},
     "output_type": "execute_result"
    }
   ],
   "source": [
    "results_df.agg({'construction_value': ['count', 'mean', 'std', 'min', 'max', 'nunique'],\n",
    "        'floor_area': ['count', 'mean', 'std', 'min', 'max', 'nunique']})"
   ]
  },
  {
   "cell_type": "markdown",
   "metadata": {},
   "source": [
    "It is approximately $97000+-$67k for 95% of builds (2 stds) for floor area 750 sq ft +- 500 sq ft. "
   ]
  },
  {
   "cell_type": "markdown",
   "metadata": {},
   "source": [
    "#Look at target visually with a kde plot - kernel desnity estimation of a histogram. This is a continuous probability density curve. The question we are asking is, is this a normal distribution?"
   ]
  },
  {
   "cell_type": "code",
   "execution_count": 52,
   "metadata": {},
   "outputs": [
    {
     "data": {
      "text/plain": [
       "<AxesSubplot:xlabel='construction_value', ylabel='Density'>"
      ]
     },
     "execution_count": 52,
     "metadata": {},
     "output_type": "execute_result"
    },
    {
     "data": {
      "image/png": "[encoded data removed]",
      "text/plain": [
       "<Figure size 1080x360 with 1 Axes>"
      ]
     },
     "metadata": {
      "needs_background": "light"
     },
     "output_type": "display_data"
    }
   ],
   "source": [
    "tmp = results_df[target]\n",
    "tmp1 = np.log(results_df[target])\n",
    "\n",
    "#Raw values show heavy right tail....\n",
    "sns.kdeplot(data=tmp)"
   ]
  },
  {
   "cell_type": "code",
   "execution_count": 53,
   "metadata": {},
   "outputs": [
    {
     "data": {
      "text/plain": [
       "<AxesSubplot:xlabel='construction_value', ylabel='Density'>"
      ]
     },
     "execution_count": 53,
     "metadata": {},
     "output_type": "execute_result"
    },
    {
     "data": {
      "image/png": "[encoded data removed]",
      "text/plain": [
       "<Figure size 1080x360 with 1 Axes>"
      ]
     },
     "metadata": {
      "needs_background": "light"
     },
     "output_type": "display_data"
    }
   ],
   "source": [
    "#Logged values\n",
    "sns.kdeplot(data=tmp1)"
   ]
  },
  {
   "cell_type": "markdown",
   "metadata": {},
   "source": [
    "#Let's check if Construction_value is normally distributed analytically...."
   ]
  },
  {
   "cell_type": "code",
   "execution_count": 54,
   "metadata": {},
   "outputs": [
    {
     "name": "stdout",
     "output_type": "stream",
     "text": [
      "The null hypothesis, col comes from a normal distriution, can be rejected\n"
     ]
    }
   ],
   "source": [
    "\n",
    "def normaldist(df, col=target, alpha=.05):\n",
    "# Check Normality with code, k2 is kertosis measure, p is skew\n",
    "    tmp = df[col]\n",
    "    k2, p = ss.normaltest(tmp)  # check kertosis and skew\n",
    "# If we were to write out our decision....\n",
    "    alpha = alpha\n",
    "    if p < alpha:  # null hypothesis: x comes from a normal distribution\n",
    "        return print(\"The null hypothesis, col comes from a normal distriution, can be rejected\")\n",
    "    else:\n",
    "        return print(\"The null hypothesis, col comes from a normal distriution, cannot be rejected\")\n",
    "\n",
    "normaldist(results_df, target, alpha=.05)"
   ]
  },
  {
   "cell_type": "markdown",
   "metadata": {},
   "source": [
    "####This is very interesting, depending on the data we draw the results are sometimes normally distributed and sometimes not, within a reasonable doubt (19/20) even though visually we see a thicker right tail in the distribution on most samples. I'm not going to log transform this target."
   ]
  },
  {
   "cell_type": "code",
   "execution_count": 55,
   "metadata": {},
   "outputs": [
    {
     "data": {
      "text/plain": [
       "array([[<AxesSubplot:title={'center':'month_number'}>,\n",
       "        <AxesSubplot:title={'center':'construction_value'}>,\n",
       "        <AxesSubplot:title={'center':'floor_area'}>],\n",
       "       [<AxesSubplot:title={'center':'units_added'}>,\n",
       "        <AxesSubplot:title={'center':'neighbourhood_numberr'}>,\n",
       "        <AxesSubplot:title={'center':'latitude'}>],\n",
       "       [<AxesSubplot:title={'center':'longitude'}>, <AxesSubplot:>,\n",
       "        <AxesSubplot:>]], dtype=object)"
      ]
     },
     "execution_count": 55,
     "metadata": {},
     "output_type": "execute_result"
    },
    {
     "data": {
      "image/png": "[encoded data removed]",
      "text/plain": [
       "<Figure size 1080x360 with 9 Axes>"
      ]
     },
     "metadata": {
      "needs_background": "light"
     },
     "output_type": "display_data"
    }
   ],
   "source": [
    "results_df.hist()"
   ]
  },
  {
   "cell_type": "code",
   "execution_count": 56,
   "metadata": {},
   "outputs": [
    {
     "data": {
      "image/png": "[encoded data removed]",
      "text/plain": [
       "<Figure size 1260x1260 with 56 Axes>"
      ]
     },
     "metadata": {
      "needs_background": "light"
     },
     "output_type": "display_data"
    }
   ],
   "source": [
    "# use pandas\n",
    "df1 = results_df.corr()\n",
    "sns.pairplot(df1, dropna=True, kind='reg')\n",
    "plt.show()"
   ]
  },
  {
   "cell_type": "code",
   "execution_count": 57,
   "metadata": {},
   "outputs": [
    {
     "data": {
      "text/html": [
       "<style  type=\"text/css\" >\n",
       "#T_f75d7_row0_col0,#T_f75d7_row1_col1,#T_f75d7_row2_col2,#T_f75d7_row3_col3,#T_f75d7_row4_col4,#T_f75d7_row5_col5,#T_f75d7_row6_col6{\n",
       "            background-color:  #023858;\n",
       "            color:  #f1f1f1;\n",
       "        }#T_f75d7_row0_col1,#T_f75d7_row3_col6{\n",
       "            background-color:  #e7e3f0;\n",
       "            color:  #000000;\n",
       "        }#T_f75d7_row0_col2,#T_f75d7_row1_col6,#T_f75d7_row2_col6,#T_f75d7_row4_col0{\n",
       "            background-color:  #f0eaf4;\n",
       "            color:  #000000;\n",
       "        }#T_f75d7_row0_col3{\n",
       "            background-color:  #ede7f2;\n",
       "            color:  #000000;\n",
       "        }#T_f75d7_row0_col4,#T_f75d7_row3_col4{\n",
       "            background-color:  #96b6d7;\n",
       "            color:  #000000;\n",
       "        }#T_f75d7_row0_col5,#T_f75d7_row3_col5,#T_f75d7_row6_col5{\n",
       "            background-color:  #8fb4d6;\n",
       "            color:  #000000;\n",
       "        }#T_f75d7_row0_col6{\n",
       "            background-color:  #ced0e6;\n",
       "            color:  #000000;\n",
       "        }#T_f75d7_row1_col0{\n",
       "            background-color:  #f8f1f8;\n",
       "            color:  #000000;\n",
       "        }#T_f75d7_row1_col2,#T_f75d7_row2_col1{\n",
       "            background-color:  #02395a;\n",
       "            color:  #f1f1f1;\n",
       "        }#T_f75d7_row1_col3{\n",
       "            background-color:  #b1c2de;\n",
       "            color:  #000000;\n",
       "        }#T_f75d7_row1_col4{\n",
       "            background-color:  #99b8d8;\n",
       "            color:  #000000;\n",
       "        }#T_f75d7_row1_col5,#T_f75d7_row2_col5{\n",
       "            background-color:  #88b1d4;\n",
       "            color:  #000000;\n",
       "        }#T_f75d7_row2_col0,#T_f75d7_row4_col5,#T_f75d7_row4_col6,#T_f75d7_row5_col4,#T_f75d7_row6_col1,#T_f75d7_row6_col2,#T_f75d7_row6_col3{\n",
       "            background-color:  #fff7fb;\n",
       "            color:  #000000;\n",
       "        }#T_f75d7_row2_col3{\n",
       "            background-color:  #b5c4df;\n",
       "            color:  #000000;\n",
       "        }#T_f75d7_row2_col4{\n",
       "            background-color:  #9ab8d8;\n",
       "            color:  #000000;\n",
       "        }#T_f75d7_row3_col0,#T_f75d7_row6_col0{\n",
       "            background-color:  #f4eef6;\n",
       "            color:  #000000;\n",
       "        }#T_f75d7_row3_col1{\n",
       "            background-color:  #a5bddb;\n",
       "            color:  #000000;\n",
       "        }#T_f75d7_row3_col2{\n",
       "            background-color:  #a9bfdc;\n",
       "            color:  #000000;\n",
       "        }#T_f75d7_row4_col1{\n",
       "            background-color:  #dfddec;\n",
       "            color:  #000000;\n",
       "        }#T_f75d7_row4_col2{\n",
       "            background-color:  #e0deed;\n",
       "            color:  #000000;\n",
       "        }#T_f75d7_row4_col3{\n",
       "            background-color:  #e6e2ef;\n",
       "            color:  #000000;\n",
       "        }#T_f75d7_row5_col0{\n",
       "            background-color:  #ebe6f2;\n",
       "            color:  #000000;\n",
       "        }#T_f75d7_row5_col1{\n",
       "            background-color:  #d1d2e6;\n",
       "            color:  #000000;\n",
       "        }#T_f75d7_row5_col2{\n",
       "            background-color:  #d2d3e7;\n",
       "            color:  #000000;\n",
       "        }#T_f75d7_row5_col3{\n",
       "            background-color:  #e1dfed;\n",
       "            color:  #000000;\n",
       "        }#T_f75d7_row5_col6{\n",
       "            background-color:  #c0c9e2;\n",
       "            color:  #000000;\n",
       "        }#T_f75d7_row6_col4{\n",
       "            background-color:  #dedcec;\n",
       "            color:  #000000;\n",
       "        }</style><table id=\"T_f75d7_\" ><thead>    <tr>        <th class=\"blank level0\" ></th>        <th class=\"col_heading level0 col0\" >month_number</th>        <th class=\"col_heading level0 col1\" >construction_value</th>        <th class=\"col_heading level0 col2\" >floor_area</th>        <th class=\"col_heading level0 col3\" >units_added</th>        <th class=\"col_heading level0 col4\" >neighbourhood_numberr</th>        <th class=\"col_heading level0 col5\" >latitude</th>        <th class=\"col_heading level0 col6\" >longitude</th>    </tr></thead><tbody>\n",
       "                <tr>\n",
       "                        <th id=\"T_f75d7_level0_row0\" class=\"row_heading level0 row0\" >month_number</th>\n",
       "                        <td id=\"T_f75d7_row0_col0\" class=\"data row0 col0\" >1.00</td>\n",
       "                        <td id=\"T_f75d7_row0_col1\" class=\"data row0 col1\" >-0.03</td>\n",
       "                        <td id=\"T_f75d7_row0_col2\" class=\"data row0 col2\" >-0.08</td>\n",
       "                        <td id=\"T_f75d7_row0_col3\" class=\"data row0 col3\" >-0.00</td>\n",
       "                        <td id=\"T_f75d7_row0_col4\" class=\"data row0 col4\" >0.03</td>\n",
       "                        <td id=\"T_f75d7_row0_col5\" class=\"data row0 col5\" >0.06</td>\n",
       "                        <td id=\"T_f75d7_row0_col6\" class=\"data row0 col6\" >-0.00</td>\n",
       "            </tr>\n",
       "            <tr>\n",
       "                        <th id=\"T_f75d7_level0_row1\" class=\"row_heading level0 row1\" >construction_value</th>\n",
       "                        <td id=\"T_f75d7_row1_col0\" class=\"data row1 col0\" >-0.03</td>\n",
       "                        <td id=\"T_f75d7_row1_col1\" class=\"data row1 col1\" >1.00</td>\n",
       "                        <td id=\"T_f75d7_row1_col2\" class=\"data row1 col2\" >0.99</td>\n",
       "                        <td id=\"T_f75d7_row1_col3\" class=\"data row1 col3\" >0.25</td>\n",
       "                        <td id=\"T_f75d7_row1_col4\" class=\"data row1 col4\" >0.01</td>\n",
       "                        <td id=\"T_f75d7_row1_col5\" class=\"data row1 col5\" >0.09</td>\n",
       "                        <td id=\"T_f75d7_row1_col6\" class=\"data row1 col6\" >-0.21</td>\n",
       "            </tr>\n",
       "            <tr>\n",
       "                        <th id=\"T_f75d7_level0_row2\" class=\"row_heading level0 row2\" >floor_area</th>\n",
       "                        <td id=\"T_f75d7_row2_col0\" class=\"data row2 col0\" >-0.08</td>\n",
       "                        <td id=\"T_f75d7_row2_col1\" class=\"data row2 col1\" >0.99</td>\n",
       "                        <td id=\"T_f75d7_row2_col2\" class=\"data row2 col2\" >1.00</td>\n",
       "                        <td id=\"T_f75d7_row2_col3\" class=\"data row2 col3\" >0.24</td>\n",
       "                        <td id=\"T_f75d7_row2_col4\" class=\"data row2 col4\" >0.01</td>\n",
       "                        <td id=\"T_f75d7_row2_col5\" class=\"data row2 col5\" >0.09</td>\n",
       "                        <td id=\"T_f75d7_row2_col6\" class=\"data row2 col6\" >-0.20</td>\n",
       "            </tr>\n",
       "            <tr>\n",
       "                        <th id=\"T_f75d7_level0_row3\" class=\"row_heading level0 row3\" >units_added</th>\n",
       "                        <td id=\"T_f75d7_row3_col0\" class=\"data row3 col0\" >-0.00</td>\n",
       "                        <td id=\"T_f75d7_row3_col1\" class=\"data row3 col1\" >0.25</td>\n",
       "                        <td id=\"T_f75d7_row3_col2\" class=\"data row3 col2\" >0.24</td>\n",
       "                        <td id=\"T_f75d7_row3_col3\" class=\"data row3 col3\" >1.00</td>\n",
       "                        <td id=\"T_f75d7_row3_col4\" class=\"data row3 col4\" >0.03</td>\n",
       "                        <td id=\"T_f75d7_row3_col5\" class=\"data row3 col5\" >0.05</td>\n",
       "                        <td id=\"T_f75d7_row3_col6\" class=\"data row3 col6\" >-0.14</td>\n",
       "            </tr>\n",
       "            <tr>\n",
       "                        <th id=\"T_f75d7_level0_row4\" class=\"row_heading level0 row4\" >neighbourhood_numberr</th>\n",
       "                        <td id=\"T_f75d7_row4_col0\" class=\"data row4 col0\" >0.03</td>\n",
       "                        <td id=\"T_f75d7_row4_col1\" class=\"data row4 col1\" >0.01</td>\n",
       "                        <td id=\"T_f75d7_row4_col2\" class=\"data row4 col2\" >0.01</td>\n",
       "                        <td id=\"T_f75d7_row4_col3\" class=\"data row4 col3\" >0.03</td>\n",
       "                        <td id=\"T_f75d7_row4_col4\" class=\"data row4 col4\" >1.00</td>\n",
       "                        <td id=\"T_f75d7_row4_col5\" class=\"data row4 col5\" >-0.66</td>\n",
       "                        <td id=\"T_f75d7_row4_col6\" class=\"data row4 col6\" >-0.35</td>\n",
       "            </tr>\n",
       "            <tr>\n",
       "                        <th id=\"T_f75d7_level0_row5\" class=\"row_heading level0 row5\" >latitude</th>\n",
       "                        <td id=\"T_f75d7_row5_col0\" class=\"data row5 col0\" >0.06</td>\n",
       "                        <td id=\"T_f75d7_row5_col1\" class=\"data row5 col1\" >0.09</td>\n",
       "                        <td id=\"T_f75d7_row5_col2\" class=\"data row5 col2\" >0.09</td>\n",
       "                        <td id=\"T_f75d7_row5_col3\" class=\"data row5 col3\" >0.05</td>\n",
       "                        <td id=\"T_f75d7_row5_col4\" class=\"data row5 col4\" >-0.66</td>\n",
       "                        <td id=\"T_f75d7_row5_col5\" class=\"data row5 col5\" >1.00</td>\n",
       "                        <td id=\"T_f75d7_row5_col6\" class=\"data row5 col6\" >0.06</td>\n",
       "            </tr>\n",
       "            <tr>\n",
       "                        <th id=\"T_f75d7_level0_row6\" class=\"row_heading level0 row6\" >longitude</th>\n",
       "                        <td id=\"T_f75d7_row6_col0\" class=\"data row6 col0\" >-0.00</td>\n",
       "                        <td id=\"T_f75d7_row6_col1\" class=\"data row6 col1\" >-0.21</td>\n",
       "                        <td id=\"T_f75d7_row6_col2\" class=\"data row6 col2\" >-0.20</td>\n",
       "                        <td id=\"T_f75d7_row6_col3\" class=\"data row6 col3\" >-0.14</td>\n",
       "                        <td id=\"T_f75d7_row6_col4\" class=\"data row6 col4\" >-0.35</td>\n",
       "                        <td id=\"T_f75d7_row6_col5\" class=\"data row6 col5\" >0.06</td>\n",
       "                        <td id=\"T_f75d7_row6_col6\" class=\"data row6 col6\" >1.00</td>\n",
       "            </tr>\n",
       "    </tbody></table>"
      ],
      "text/plain": [
       "<pandas.io.formats.style.Styler at 0x2ada35216d0>"
      ]
     },
     "execution_count": 57,
     "metadata": {},
     "output_type": "execute_result"
    }
   ],
   "source": [
    "#we have massive correlations, esp with floor_area\n",
    "df1.style.background_gradient()\n",
    "df1.style.background_gradient().set_precision(2)"
   ]
  },
  {
   "cell_type": "markdown",
   "metadata": {},
   "source": [
    " Construction Values are highly correlated with floor_area. Based on the pairplot I suspect a simple formula using linear regression to figure out what the city of edmonton values these jobs at per square foot. I am now suspicious of my data and check the permitting process. Indeed, there is no feild to input construction_value and it is determined using a formula by the city. Let's figure our what this rate is...."
   ]
  },
  {
   "cell_type": "code",
   "execution_count": 58,
   "metadata": {},
   "outputs": [
    {
     "name": "stdout",
     "output_type": "stream",
     "text": [
      "Training CrossVal Score: [0.99221902 0.98927452 0.99025083 0.98838725 0.98255765]\n",
      "Average Train Score: 0.9885378528115852\n",
      "Testing score: 0.9842341372801762\n"
     ]
    }
   ],
   "source": [
    "\n",
    "from sklearn.linear_model import LinearRegression\n",
    "from sklearn.linear_model import Lasso\n",
    "from sklearn.linear_model import Ridge\n",
    "from sklearn.linear_model import ElasticNet\n",
    "from sklearn.pipeline import Pipeline\n",
    "from sklearn.model_selection import GridSearchCV\n",
    "from sklearn.compose import ColumnTransformer\n",
    "from sklearn.impute import SimpleImputer\n",
    "from sklearn.preprocessing import MinMaxScaler\n",
    "from sklearn.linear_model import SGDRegressor\n",
    "from sklearn.preprocessing import OneHotEncoder\n",
    "from sklearn.model_selection import cross_val_score\n",
    "from sklearn.metrics import mean_squared_error\n",
    "from sklearn.model_selection import train_test_split\n",
    "\n",
    "#Split data as normal\n",
    "y = results_df[target]\n",
    "X = results_df.drop(columns={target})\n",
    "\n",
    "#Build pipeline\n",
    "#Linear regression is my model of choice as it most simplifies decision making.\n",
    "model = LinearRegression()\n",
    "X_train, X_test, y_train, y_test = train_test_split(X, y, random_state=42)\n",
    "# The pipeline is our estimator and avoids leaking the test set into the train set\n",
    "model.fit(X_train, y_train)\n",
    "cvs = cross_val_score(model, X_train, y_train.ravel(), cv=5)\n",
    "print('Training CrossVal Score:', cvs)\n",
    "print(\"Average Train Score:\", np.mean(cvs))\n",
    "print('Testing score:', model.score(X_test, y_test))"
   ]
  },
  {
   "cell_type": "markdown",
   "metadata": {},
   "source": [
    "Here is our model!"
   ]
  },
  {
   "cell_type": "code",
   "execution_count": 59,
   "metadata": {},
   "outputs": [
    {
     "name": "stdout",
     "output_type": "stream",
     "text": [
      "Intercept:  -243502.2\n",
      "Coefficients:  [ 5.4668488e+02  1.2561500e+02  1.8314569e+03  3.3368301e-01\n",
      " -1.5212617e+03  2.8175439e+03]\n"
     ]
    }
   ],
   "source": [
    "print(\"Intercept: \", model.intercept_)\n",
    "print(\"Coefficients: \" ,model.coef_)"
   ]
  },
  {
   "cell_type": "markdown",
   "metadata": {},
   "source": [
    "We've got this one in the bag. Over 99% testing accuracy."
   ]
  },
  {
   "cell_type": "code",
   "execution_count": 60,
   "metadata": {},
   "outputs": [],
   "source": [
    "#Scale ALL the data\n",
    "df_ = results_df.drop(columns={\"construction_value\"})"
   ]
  },
  {
   "cell_type": "code",
   "execution_count": 61,
   "metadata": {},
   "outputs": [
    {
     "name": "stdout",
     "output_type": "stream",
     "text": [
      "                            OLS Regression Results                            \n",
      "==============================================================================\n",
      "Dep. Variable:     construction_value   R-squared:                       0.990\n",
      "Model:                            OLS   Adj. R-squared:                  0.990\n",
      "Method:                 Least Squares   F-statistic:                     2817.\n",
      "Date:                Tue, 02 Aug 2022   Prob (F-statistic):          1.18e-169\n",
      "Time:                        15:02:15   Log-Likelihood:                -1718.9\n",
      "No. Observations:                 180   AIC:                             3452.\n",
      "Df Residuals:                     173   BIC:                             3474.\n",
      "Df Model:                           6                                         \n",
      "Covariance Type:            nonrobust                                         \n",
      "=========================================================================================\n",
      "                            coef    std err          t      P>|t|      [0.025      0.975]\n",
      "-----------------------------------------------------------------------------------------\n",
      "const                 -3.525e+05   9.04e+05     -0.390      0.697   -2.14e+06    1.43e+06\n",
      "month_number            524.1239     80.254      6.531      0.000     365.720     682.528\n",
      "floor_area              125.8675      1.021    123.233      0.000     123.852     127.883\n",
      "units_added            1892.2536   1383.520      1.368      0.173    -838.498    4623.005\n",
      "neighbourhood_numberr     0.1386      0.245      0.566      0.572      -0.345       0.622\n",
      "latitude               6796.9562   1.07e+04      0.633      0.527   -1.44e+04     2.8e+04\n",
      "longitude              -136.6309   5144.352     -0.027      0.979   -1.03e+04       1e+04\n",
      "==============================================================================\n",
      "Omnibus:                       13.650   Durbin-Watson:                   1.086\n",
      "Prob(Omnibus):                  0.001   Jarque-Bera (JB):               24.256\n",
      "Skew:                           0.371   Prob(JB):                     5.41e-06\n",
      "Kurtosis:                       4.638   Cond. No.                     1.67e+07\n",
      "==============================================================================\n",
      "\n",
      "Notes:\n",
      "[1] Standard Errors assume that the covariance matrix of the errors is correctly specified.\n",
      "[2] The condition number is large, 1.67e+07. This might indicate that there are\n",
      "strong multicollinearity or other numerical problems.\n"
     ]
    }
   ],
   "source": [
    "import statsmodels.api as sm\n",
    "X2 = sm.add_constant(df_)\n",
    "est = sm.OLS(y,X2)\n",
    "est2 = est.fit()\n",
    "print(est2.summary())\n"
   ]
  },
  {
   "cell_type": "markdown",
   "metadata": {},
   "source": [
    "With P>|t| WAY greater than .05 I determine the last 4 variable in the set are adding nothing to the regression. I drop them. "
   ]
  },
  {
   "cell_type": "code",
   "execution_count": 62,
   "metadata": {},
   "outputs": [],
   "source": [
    "df = results_df[[ \"month_number\", \"floor_area\" ]]"
   ]
  },
  {
   "cell_type": "code",
   "execution_count": 63,
   "metadata": {},
   "outputs": [
    {
     "name": "stdout",
     "output_type": "stream",
     "text": [
      "                            OLS Regression Results                            \n",
      "==============================================================================\n",
      "Dep. Variable:     construction_value   R-squared:                       0.990\n",
      "Model:                            OLS   Adj. R-squared:                  0.990\n",
      "Method:                 Least Squares   F-statistic:                     8519.\n",
      "Date:                Tue, 02 Aug 2022   Prob (F-statistic):          1.17e-176\n",
      "Time:                        15:02:15   Log-Likelihood:                -1720.2\n",
      "No. Observations:                 180   AIC:                             3446.\n",
      "Df Residuals:                     177   BIC:                             3456.\n",
      "Df Model:                           2                                         \n",
      "Covariance Type:            nonrobust                                         \n",
      "================================================================================\n",
      "                   coef    std err          t      P>|t|      [0.025      0.975]\n",
      "--------------------------------------------------------------------------------\n",
      "const        -1967.0487    975.630     -2.016      0.045   -3892.413     -41.685\n",
      "month_number   532.7971     79.325      6.717      0.000     376.252     689.342\n",
      "floor_area     126.2888      0.968    130.465      0.000     124.379     128.199\n",
      "==============================================================================\n",
      "Omnibus:                       11.434   Durbin-Watson:                   1.053\n",
      "Prob(Omnibus):                  0.003   Jarque-Bera (JB):               18.373\n",
      "Skew:                           0.336   Prob(JB):                     0.000102\n",
      "Kurtosis:                       4.413   Cond. No.                     3.04e+03\n",
      "==============================================================================\n",
      "\n",
      "Notes:\n",
      "[1] Standard Errors assume that the covariance matrix of the errors is correctly specified.\n",
      "[2] The condition number is large, 3.04e+03. This might indicate that there are\n",
      "strong multicollinearity or other numerical problems.\n"
     ]
    }
   ],
   "source": [
    "import statsmodels.api as sm\n",
    "X3 = sm.add_constant(df)\n",
    "est = sm.OLS(y,X3)\n",
    "est2 = est.fit()\n",
    "print(est2.summary())"
   ]
  },
  {
   "cell_type": "markdown",
   "metadata": {},
   "source": [
    "#Garden_Suite_construction_value= -1967.0487 + 532.7971(month_of_permit) + 126.2888(floor_area)"
   ]
  },
  {
   "cell_type": "markdown",
   "metadata": {},
   "source": [
    "The model has an R2 of 99%. This means 99% of the price of garden suite construction values are explainable by the month the permit was pulled in and the floor_area of the Garden Suite."
   ]
  },
  {
   "cell_type": "markdown",
   "metadata": {},
   "source": [
    "#Run the estimate function below. Be sure to input your own metrics...."
   ]
  },
  {
   "cell_type": "code",
   "execution_count": 94,
   "metadata": {},
   "outputs": [
    {
     "name": "stdout",
     "output_type": "stream",
     "text": [
      "You entered month number 5, and 1200 square feet.\n",
      "Garden Suite Construction Value estimate:  $ 152232.91\n"
     ]
    }
   ],
   "source": [
    "def readIntBetween(low, high, var_text) :\n",
    "   value = float(input(\"Enter a \" + str(var_text) + \" number between \" + str(low) + \" and \" + \n",
    "                      str(high) + \": \"))\n",
    "   while value < low or value > high :\n",
    "        print(\"Error: value out of range.\")\n",
    "        value = float(input(\"Enter a value between \" + str(low) + \" and \" + \n",
    "                    str(high) + \": \"))\n",
    "   return value\n",
    "months = float(readIntBetween(1, 12, 'month'))\n",
    "sq_ft = float(readIntBetween(300, 1500, 'floor area in square feet that is a'))\n",
    "print(\"You entered month number %d, and %d square feet.\" % (months, sq_ft))\n",
    "garden_suite_construction_value= 532.79*months + 126.28*sq_ft-1967.04\n",
    "print(\"Garden Suite Construction Value estimate:  $\",garden_suite_construction_value)"
   ]
  }
 ],
 "metadata": {
  "kernelspec": {
   "display_name": "Python 3.8.8 ('base')",
   "language": "python",
   "name": "python3"
  },
  "language_info": {
   "codemirror_mode": {
    "name": "ipython",
    "version": 3
   },
   "file_extension": ".py",
   "mimetype": "text/x-python",
   "name": "python",
   "nbconvert_exporter": "python",
   "pygments_lexer": "ipython3",
   "version": "3.8.8"
  },
  "orig_nbformat": 4,
  "vscode": {
   "interpreter": {
    "hash": "40a7179ff078a5ff0a7932256abcc606cee23d5005e77f0fd3ed94e01ec41f87"
   }
  }
 },
 "nbformat": 4,
 "nbformat_minor": 2
}
